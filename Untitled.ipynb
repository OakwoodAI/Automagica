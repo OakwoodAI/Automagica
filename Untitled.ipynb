{
 "cells": [
  {
   "cell_type": "code",
   "execution_count": 200,
   "metadata": {},
   "outputs": [
    {
     "name": "stdout",
     "output_type": "stream",
     "text": [
      "The autoreload extension is already loaded. To reload it, use:\n",
      "  %reload_ext autoreload\n"
     ]
    }
   ],
   "source": [
    "%load_ext autoreload\n",
    "%autoreload 2\n",
    "from automagica.activities import *"
   ]
  },
  {
   "cell_type": "code",
   "execution_count": 207,
   "metadata": {},
   "outputs": [],
   "source": [
    "def random_screen_snippet(size=100):\n",
    "    \"\"\"Random screen\n",
    "\n",
    "    :param size: Size \n",
    "    \"\"\"\n",
    "    import PIL.ImageGrab\n",
    "    img = PIL.ImageGrab.grab()\n",
    "\n",
    "    width, height = img.size\n",
    "\n",
    "    import random\n",
    "    random_left = random.randrange(1,width,1)\n",
    "    random_top = random.randrange(1,height,1)\n",
    "\n",
    "    left, top, right, bottom = random_left, random_top, random_left + 100, random_top + 100\n",
    "    cropped = img.crop( ( left, top, right, bottom ) )\n",
    "\n",
    "    path = os.path.join(os.path.expanduser(\"~\"), \"random_crop.jpg\")\n",
    "    cropped.save(path, \"JPEG\")"
   ]
  },
  {
   "cell_type": "code",
   "execution_count": null,
   "metadata": {},
   "outputs": [],
   "source": []
  },
  {
   "cell_type": "code",
   "execution_count": null,
   "metadata": {},
   "outputs": [],
   "source": []
  },
  {
   "cell_type": "code",
   "execution_count": null,
   "metadata": {},
   "outputs": [],
   "source": []
  },
  {
   "cell_type": "code",
   "execution_count": 202,
   "metadata": {},
   "outputs": [
    {
     "data": {
      "text/plain": [
       "()"
      ]
     },
     "execution_count": 202,
     "metadata": {},
     "output_type": "execute_result"
    }
   ],
   "source": [
    "/"
   ]
  },
  {
   "cell_type": "markdown",
   "metadata": {},
   "source": [
    "?"
   ]
  }
 ],
 "metadata": {
  "kernelspec": {
   "display_name": "Python 3",
   "language": "python",
   "name": "python3"
  },
  "language_info": {
   "codemirror_mode": {
    "name": "ipython",
    "version": 3
   },
   "file_extension": ".py",
   "mimetype": "text/x-python",
   "name": "python",
   "nbconvert_exporter": "python",
   "pygments_lexer": "ipython3",
   "version": "3.6.6"
  }
 },
 "nbformat": 4,
 "nbformat_minor": 2
}
