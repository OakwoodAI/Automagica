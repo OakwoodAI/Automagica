{
 "cells": [
  {
   "cell_type": "markdown",
   "metadata": {},
   "source": [
    "# Automated E-mailing in Outlook with Automagica\n",
    "Microsoft® Outlook can be easily automated with Automagica. We will show you how in this notebook."
   ]
  },
  {
   "cell_type": "code",
   "execution_count": 61,
   "metadata": {},
   "outputs": [],
   "source": [
    "from automagica import *"
   ]
  },
  {
   "cell_type": "markdown",
   "metadata": {},
   "source": [
    "Let's initiate Outlook, you can give it any name you want as long are you are consistent in the next steps.\n",
    "Make sure you have Outlook configured accordingly."
   ]
  },
  {
   "cell_type": "code",
   "execution_count": 62,
   "metadata": {},
   "outputs": [],
   "source": [
    "outlook = Outlook()"
   ]
  },
  {
   "cell_type": "markdown",
   "metadata": {},
   "source": [
    "Outlook does not need to be opened in the foreground and will not automatically do so. However, you can open it manually to check all the steps.\n",
    "\n",
    "First, let's send an e-mail. Make sure to change the e-mail as the placeholder 'test@automagica.com' will not be delivered."
   ]
  },
  {
   "cell_type": "code",
   "execution_count": 63,
   "metadata": {},
   "outputs": [
    {
     "ename": "AttributeError",
     "evalue": "'Outlook' object has no attribute 'send_mail'",
     "output_type": "error",
     "traceback": [
      "\u001b[1;31m---------------------------------------------------------------------------\u001b[0m",
      "\u001b[1;31mAttributeError\u001b[0m                            Traceback (most recent call last)",
      "\u001b[1;32m<ipython-input-63-97d60bd7882f>\u001b[0m in \u001b[0;36m<module>\u001b[1;34m()\u001b[0m\n\u001b[1;32m----> 1\u001b[1;33m \u001b[0moutlook\u001b[0m\u001b[1;33m.\u001b[0m\u001b[0msend_mail\u001b[0m\u001b[1;33m(\u001b[0m\u001b[0mto_address\u001b[0m\u001b[1;33m=\u001b[0m\u001b[1;34m'test@automagica.com'\u001b[0m\u001b[1;33m,\u001b[0m \u001b[0msubject\u001b[0m\u001b[1;33m=\u001b[0m\u001b[1;34m'Automated mail'\u001b[0m\u001b[1;33m,\u001b[0m \u001b[0mbody\u001b[0m\u001b[1;33m=\u001b[0m\u001b[1;34m'This is a secretive and confidential email'\u001b[0m\u001b[1;33m)\u001b[0m\u001b[1;33m\u001b[0m\u001b[0m\n\u001b[0m",
      "\u001b[1;31mAttributeError\u001b[0m: 'Outlook' object has no attribute 'send_mail'"
     ]
    }
   ],
   "source": [
    "outlook.send_mail(to_address='test@automagica.com', subject='Automated mail', body='This is a secretive and confidential email')"
   ]
  },
  {
   "cell_type": "markdown",
   "metadata": {},
   "source": [
    "To work with excel you often need to specify the folder. These are the folders you have designated for different e-mails. Typically these will contain 'Inbox', 'Archive' and 'Deleted Items'. \n",
    "\n",
    "To help you find the names of the availble folders you can call the get_folders() activity, which will return a list with all reachable folders.\n",
    "\n",
    "If you are using a non-english version of Outlook the names will be in the language of your office.\n",
    "\n",
    "![outlook_folders.PNG](attachment:outlook_folders.PNG)"
   ]
  },
  {
   "cell_type": "code",
   "execution_count": null,
   "metadata": {},
   "outputs": [],
   "source": [
    "outlook.get_folders()"
   ]
  },
  {
   "cell_type": "markdown",
   "metadata": {},
   "source": [
    "To get the mails from outlook you can use the get_mails() function. The default folder is the 'Inbox' folder, but make sure that the folder you want to use is available."
   ]
  },
  {
   "cell_type": "code",
   "execution_count": null,
   "metadata": {},
   "outputs": [],
   "source": [
    "mails = outlook.get_mails(folder_name='Deleted Items')"
   ]
  },
  {
   "cell_type": "markdown",
   "metadata": {},
   "source": [
    "The variable 'mails' now contains a list of dictionaries with all the e-mails. For those familiar with pandas dataframe can easily convert to a datafram"
   ]
  },
  {
   "cell_type": "code",
   "execution_count": null,
   "metadata": {},
   "outputs": [],
   "source": [
    "mails_dataframe = list_of_dicts_to_df(mails)"
   ]
  },
  {
   "cell_type": "markdown",
   "metadata": {},
   "source": [
    "We can easily delete all the e-mails from our Inbox with the following activity:"
   ]
  },
  {
   "cell_type": "code",
   "execution_count": null,
   "metadata": {},
   "outputs": [],
   "source": [
    "outlook.delete_mails(folder_name='Inbox')"
   ]
  },
  {
   "cell_type": "markdown",
   "metadata": {},
   "source": [
    "If you are looking to delete a specific e-mail you we can use the sender, body or subject to specify a certain e-mail. For example, by using the optional parameter 'body_contains' we can only delete emails that contain a certain word or phrase in the e-mail body. \n",
    "\n",
    "Take care when specifying short words or sentences, as they might cause false positives. For example if we want to delete all e-mails which contain the word 'robot' in the subject line, we can do so by setting subject_contains='robot'. If there happens to be an e-mail with the subject 'Strobotrons' for example, this e-mail will also be deleted as it contains the word 'robot'.\n",
    " \n",
    "Let's say we want to delete all e-mails that contain 'confidential' somewhere in the body."
   ]
  },
  {
   "cell_type": "code",
   "execution_count": 64,
   "metadata": {},
   "outputs": [
    {
     "ename": "AttributeError",
     "evalue": "'Outlook' object has no attribute 'delete_mails'",
     "output_type": "error",
     "traceback": [
      "\u001b[1;31m---------------------------------------------------------------------------\u001b[0m",
      "\u001b[1;31mAttributeError\u001b[0m                            Traceback (most recent call last)",
      "\u001b[1;32m<ipython-input-64-041718bf3da4>\u001b[0m in \u001b[0;36m<module>\u001b[1;34m()\u001b[0m\n\u001b[1;32m----> 1\u001b[1;33m \u001b[0moutlook\u001b[0m\u001b[1;33m.\u001b[0m\u001b[0mdelete_mails\u001b[0m\u001b[1;33m(\u001b[0m\u001b[0mfolder_name\u001b[0m\u001b[1;33m=\u001b[0m\u001b[1;34m'Inbox'\u001b[0m\u001b[1;33m,\u001b[0m \u001b[0mbody_contains\u001b[0m\u001b[1;33m=\u001b[0m\u001b[1;34m'confidential'\u001b[0m\u001b[1;33m)\u001b[0m\u001b[1;33m\u001b[0m\u001b[0m\n\u001b[0m",
      "\u001b[1;31mAttributeError\u001b[0m: 'Outlook' object has no attribute 'delete_mails'"
     ]
    }
   ],
   "source": [
    "outlook.delete_mails(folder_name='Inbox', body_contains='confidential')"
   ]
  },
  {
   "cell_type": "markdown",
   "metadata": {},
   "source": [
    "Instead of deleting e-mails we can also select e-mails and move them to another folder. In addition to deleting e-mails we need a target_folder_name. The standard source folder (source_folder_name) is set to 'Inbox'.\n",
    "\n",
    "The following command will archive all e-mails with the word 'meeting' in the subject comming from the e-mail address 'meeting@email.com'."
   ]
  },
  {
   "cell_type": "code",
   "execution_count": 65,
   "metadata": {},
   "outputs": [
    {
     "ename": "AttributeError",
     "evalue": "'Outlook' object has no attribute 'move_mails'",
     "output_type": "error",
     "traceback": [
      "\u001b[1;31m---------------------------------------------------------------------------\u001b[0m",
      "\u001b[1;31mAttributeError\u001b[0m                            Traceback (most recent call last)",
      "\u001b[1;32m<ipython-input-65-a8bcd2680707>\u001b[0m in \u001b[0;36m<module>\u001b[1;34m()\u001b[0m\n\u001b[1;32m----> 1\u001b[1;33m \u001b[0moutlook\u001b[0m\u001b[1;33m.\u001b[0m\u001b[0mmove_mails\u001b[0m\u001b[1;33m(\u001b[0m\u001b[0mtarget_folder_name\u001b[0m\u001b[1;33m=\u001b[0m\u001b[1;34m'Archive'\u001b[0m\u001b[1;33m,\u001b[0m \u001b[0msubject_contains\u001b[0m\u001b[1;33m=\u001b[0m\u001b[1;34m'meeting'\u001b[0m\u001b[1;33m,\u001b[0m \u001b[0msender_contains\u001b[0m\u001b[1;33m=\u001b[0m\u001b[1;34m'meeting@email.com'\u001b[0m\u001b[1;33m)\u001b[0m\u001b[1;33m\u001b[0m\u001b[0m\n\u001b[0m",
      "\u001b[1;31mAttributeError\u001b[0m: 'Outlook' object has no attribute 'move_mails'"
     ]
    }
   ],
   "source": [
    "outlook.move_mails(target_folder_name='Archive', subject_contains='meeting', sender_contains='meeting@email.com')"
   ]
  },
  {
   "cell_type": "markdown",
   "metadata": {},
   "source": [
    "When looking to save attachments in bulk or periodically we can use the save_attachments activity. This will save all attachments from a specified e-mail folder to the system locally. \n",
    "\n",
    "If you are looking to save only the attachments from a certain selection of e-mails (based on sender, body, ..) we recommend to move the e-mails you would like to save the attachment from to a specific folder using the move_mails activity first.\n",
    "\n",
    "The save_attachments activity will return a list with the full path of all saved files."
   ]
  },
  {
   "cell_type": "code",
   "execution_count": 66,
   "metadata": {},
   "outputs": [
    {
     "ename": "AttributeError",
     "evalue": "'Outlook' object has no attribute 'save_attachments'",
     "output_type": "error",
     "traceback": [
      "\u001b[1;31m---------------------------------------------------------------------------\u001b[0m",
      "\u001b[1;31mAttributeError\u001b[0m                            Traceback (most recent call last)",
      "\u001b[1;32m<ipython-input-66-baf1adfbb0d8>\u001b[0m in \u001b[0;36m<module>\u001b[1;34m()\u001b[0m\n\u001b[1;32m----> 1\u001b[1;33m \u001b[0msaved_files\u001b[0m \u001b[1;33m=\u001b[0m \u001b[0moutlook\u001b[0m\u001b[1;33m.\u001b[0m\u001b[0msave_attachments\u001b[0m\u001b[1;33m(\u001b[0m\u001b[0mfolder_name\u001b[0m\u001b[1;33m=\u001b[0m\u001b[1;34m'Inbox'\u001b[0m\u001b[1;33m)\u001b[0m\u001b[1;33m\u001b[0m\u001b[0m\n\u001b[0m",
      "\u001b[1;31mAttributeError\u001b[0m: 'Outlook' object has no attribute 'save_attachments'"
     ]
    }
   ],
   "source": [
    "saved_files = outlook.save_attachments(folder_name='Inbox')\n",
    "print(saved_files)"
   ]
  },
  {
   "cell_type": "markdown",
   "metadata": {},
   "source": [
    "Finally, we can get or add contacts from Outlook. Get contacts will return a list of dictionaries with the 'LastName', 'FirstName' and 'Email1Address'. Other details can be retreived by specifiyng the fields paramater, which accepts a tuple."
   ]
  },
  {
   "cell_type": "code",
   "execution_count": 67,
   "metadata": {},
   "outputs": [
    {
     "ename": "AttributeError",
     "evalue": "'Outlook' object has no attribute 'get_contacts'",
     "output_type": "error",
     "traceback": [
      "\u001b[1;31m---------------------------------------------------------------------------\u001b[0m",
      "\u001b[1;31mAttributeError\u001b[0m                            Traceback (most recent call last)",
      "\u001b[1;32m<ipython-input-67-8e5d92f764e8>\u001b[0m in \u001b[0;36m<module>\u001b[1;34m()\u001b[0m\n\u001b[1;32m----> 1\u001b[1;33m \u001b[0moutlook\u001b[0m\u001b[1;33m.\u001b[0m\u001b[0mget_contacts\u001b[0m\u001b[1;33m(\u001b[0m\u001b[1;33m)\u001b[0m\u001b[1;33m\u001b[0m\u001b[0m\n\u001b[0m",
      "\u001b[1;31mAttributeError\u001b[0m: 'Outlook' object has no attribute 'get_contacts'"
     ]
    }
   ],
   "source": [
    "outlook.get_contacts()"
   ]
  },
  {
   "cell_type": "code",
   "execution_count": null,
   "metadata": {},
   "outputs": [],
   "source": [
    "outlook.add_contact(email='new@user.com', first_name='robot')"
   ]
  }
 ],
 "metadata": {
  "kernelspec": {
   "display_name": "Python 3",
   "language": "python",
   "name": "python3"
  },
  "language_info": {
   "codemirror_mode": {
    "name": "ipython",
    "version": 3
   },
   "file_extension": ".py",
   "mimetype": "text/x-python",
   "name": "python",
   "nbconvert_exporter": "python",
   "pygments_lexer": "ipython3",
   "version": "3.6.6"
  }
 },
 "nbformat": 4,
 "nbformat_minor": 2
}
